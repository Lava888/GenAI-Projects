{
 "cells": [
  {
   "cell_type": "code",
   "execution_count": 1,
   "metadata": {},
   "outputs": [
    {
     "name": "stderr",
     "output_type": "stream",
     "text": [
      "USER_AGENT environment variable not set, consider setting it to identify your requests.\n",
      "C:\\Users\\local_ZSACIIH\\Temp\\20\\ipykernel_35896\\1499542349.py:13: LangChainDeprecationWarning: The class `HuggingFaceBgeEmbeddings` was deprecated in LangChain 0.2.2 and will be removed in 1.0. An updated version of the class exists in the :class:`~langchain-huggingface package and should be used instead. To use it run `pip install -U :class:`~langchain-huggingface` and import as `from :class:`~langchain_huggingface import HuggingFaceEmbeddings``.\n",
      "  embeddings = HuggingFaceBgeEmbeddings(\n",
      "c:\\Users\\ZSACIIH\\genaispace\\.venv\\lib\\site-packages\\tqdm\\auto.py:21: TqdmWarning: IProgress not found. Please update jupyter and ipywidgets. See https://ipywidgets.readthedocs.io/en/stable/user_install.html\n",
      "  from .autonotebook import tqdm as notebook_tqdm\n",
      "Created a chunk of size 1537, which is longer than the specified 500\n",
      "Created a chunk of size 1600, which is longer than the specified 500\n",
      "Created a chunk of size 2676, which is longer than the specified 500\n",
      "Created a chunk of size 2369, which is longer than the specified 500\n",
      "Created a chunk of size 1520, which is longer than the specified 500\n",
      "Created a chunk of size 2340, which is longer than the specified 500\n"
     ]
    },
    {
     "name": "stdout",
     "output_type": "stream",
     "text": [
      "Total chunks: 14\n",
      "Existing Chunk: [\"AI agents — what they are, and how they'll change the way we work - Source\\n\\n\\n \\n\\n\\nSkip to main content\\n\\nMicrosoft\\n\\nSource\\n\\n\\nSource\\n\\n\\n                            Source\\n                        \\n\\n\\n Home \\n\\nOur Company\\n\\n\\nCompany News\\n\\n\\nOfficial Microsoft Blog\\n\\n\\nMicrosoft On The Issues\\n\\n\\nEurope\\n\\n\\nAsia\\n\\n\\nLatin America\\n\\n\\nIndia\\n\\n\\nUK\\n\\n\\nInclusion is Innovation\\n\\n\\nConexiones\\n\\n \\nAI\\n\\n\\nInnovation\\n\\n\\nDigital Transformation\\n\\n\\nDiversity & Inclusion\\n\\n\\nSustainability\\n\\n\\nWork & Life\\n\\n\\nSecurity\\n\\n\\nUnlocked\\n\\nMore\", 'Unlocked\\n\\nMore\\n\\n \\n\\n All Microsoft\\n\\n\\nGlobal\\n\\n\\nMicrosoft 365\\n\\n\\nTeams\\n\\n\\nCopilot\\n\\n\\nWindows\\n\\n\\nSurface\\n\\n\\nXbox\\n\\n\\nDeals\\n\\n\\nSmall Business\\n\\n\\nSupport\\n\\n\\nSoftware\\nSoftware\\n\\n\\nWindows Apps\\n\\n\\nAI\\n\\n\\nOutlook\\n\\n\\nOneDrive\\n\\n\\nMicrosoft Teams\\n\\n\\nOneNote\\n\\n\\nMicrosoft Edge\\n\\n\\nSkype\\n\\n\\nPCs & Devices  \\nPCs & Devices  \\n\\n\\nComputers\\n\\n\\nShop Xbox\\n\\n\\nAccessories\\n\\n\\nVR & mixed reality\\n\\n\\nCertified Refurbished\\n\\n\\nTrade-in for cash\\n\\n\\nEntertainment\\nEntertainment\\n\\n\\nXbox Game Pass Ultimate\\n\\n\\nPC Game Pass\\n\\n\\nXbox games\\n\\n\\nPC games\\n\\n\\nMovies & TV', 'Movies & TV\\n\\n\\nBusiness\\nBusiness\\n\\n\\nMicrosoft Cloud\\n\\n\\nMicrosoft Security\\n\\n\\nDynamics 365\\n\\n\\nMicrosoft 365 for business\\n\\n\\nMicrosoft Power Platform\\n\\n\\nWindows 365\\n\\n\\nMicrosoft Industry\\n\\n\\nSmall Business\\n\\n\\nDeveloper & IT  \\nDeveloper & IT  \\n\\n\\nAzure\\n\\n\\nMicrosoft Developer\\n\\n\\nMicrosoft Learn\\n\\n\\nSupport for AI marketplace apps\\n\\n\\nMicrosoft Tech Community\\n\\n\\nAzure Marketplace\\n\\n\\nAppSource\\n\\n\\nVisual Studio\\n\\n\\nOther\\nOther\\n\\n\\nMicrosoft Rewards \\n\\n\\nFree downloads & security\\n\\n\\nEducation\\n\\n\\nGift cards\\n\\n\\nLicensing', 'Licensing\\n\\n\\nUnlocked stories\\n\\n\\nView Sitemap\\n\\n\\nSearch\\nSearch news.microsoft.com/source\\n\\n\\n No results\\n\\n\\nCancel\\n\\n\\n0\\nCart\\n0 items in shopping cart\\n\\n\\n\\r\\n\\t\\t\\t\\t\\tSource\\t\\t\\t\\t\\t\\t\\t\\t\\t\\n\\n\\n \\n\\n \\n\\n \\n\\n \\n\\n \\n\\n\\t\\t\\t\\t\\t\\t\\tAI agents — what they are, and how they’ll change the way we work\\t\\t\\t\\t\\t\\t\\n\\n                        by Susanna Ray', 'It’s Monday morning, the caffeine hasn’t kicked in yet, and you have a busy day ahead: Maybe you have piles of returns or new shipping invoices to review, or you need to get the latest updates out to your field technicians or help employees get more efficient IT support.\\nNow you can get help with all of this and more by simply asking an AI agent to take care of it — while you drink a second cup of coffee and focus on your team’s long-term strategy.\\nAn agent can tackle certain tasks with you or for you, from acting as a virtual project manager to handling more complex assignments like reconciling financial statements to close the books. Microsoft 365 Copilot is already a personal assistant that helps with everything from tedious daily duties to jumpstarting creative projects. Using it to interact with various agents brings a new world of possibilities for organizations to empower their employees, drive business and accomplish even more.\\nAgents can operate around the clock to review and approve customer returns or go over shipping invoices to help businesses avoid costly supply-chain errors. They can reason over reams of product information to give field technicians step-by-step instructions or use context and memory to open and close tickets for an IT help desk.\\n“Think of agents as the new apps for an AI-powered world,” says Jared Spataro, Microsoft’s chief marketing officer for AI at Work. “We’re rapidly adding new capabilities to tackle individuals’ biggest pain points at work and drive real business results.”', 'What are agents, anyway?\\nAn agent takes the power of generative AI a step further, because instead of just assisting you, agents can work alongside you or even on your behalf. Agents can do a range of things, from responding to questions to more complicated or multistep assignments. What sets them apart from a personal assistant is that they can be tailored to have a particular expertise.\\nFor example, you could create an agent to know everything about your company’s product catalog so it can draft detailed responses to customer questions or automatically compile product details for an upcoming presentation.\\nOther agents can do even more, acting on your behalf, like one that helps fulfill sales orders — freeing you up to focus on building new customer relationships. Having agents handle some of these routine needs can boost productivity across industries, from manufacturing and research to finance and retail, helping businesses save time and money.\\nYou can use ready-made agents in Microsoft 365 and Dynamics 365, or build custom agents to help with more specific needs in Copilot Studio.\\nImagine you’re a salesperson with big quarterly goals to meet. Copilot acts as your personal assistant, drafting emails, recapping a meeting you missed and helping you design a polished sales presentation. Meanwhile, an agent specialized in sales lead generation works autonomously in the background to find new prospects you can follow up with later in the week. Copilot partners on daily tasks, and your purpose-built agent uses its customized skills to help you meet your end-of-quarter goals.', 'AI agents are not only a way to get more value for people but are going to be a paradigm shift in terms of how work gets done.', 'Agents are not new. Microsoft has done extensive research in the area and even created a multi-agent library last year for developers around the world, work that helped shape what agents can do today.\\xa0 They’re getting more attention now because recent advances in large language models (LLMs) help anyone — even outside the developer community — communicate with AI. That agent-LLM duo makes AI tools more tangibly useful.\\n“People expect AI to do things for them,” not to just generate language, says Ece Kamar, the managing director of Microsoft’s AI Frontiers Lab. “If you want to have a system that can really solve real world problems and help people, that system has to have a good understanding of the world we live in, and when something happens, that system has to perceive that change and take action accordingly.”\\nAgents are like layers on top of the language models that observe and collect information, provide input to the model and together generate an action plan and communicate that to the user — or even act on their own, if permitted. So both agents and models are equally important pieces of the puzzle, as far as generative AI tools go.\\nAgents will become more useful and able to have more autonomy with innovations in their three necessary elements: memory, entitlements and tools.\\nMemory helps provide continuity so that each time you ask for something, it isn’t like starting from scratch.\\n“To be autonomous you have to carry context through a bunch of actions, but the models are very disconnected and don’t have continuity the way we do, so every prompt is in a vacuum and it might pull the wrong memory out,” says Sam Schillace, Microsoft’s deputy chief technology officer. “It’s like you’re watching a stop-motion animation, one isolated frame after another, and your mind puts it into motion. The clay model doesn’t move on its own.”\\nTo build up the memory infrastructure to address this, Schillace and his team are working on a process of chunking and chaining. That’s essentially what it sounds like: They’re experimenting with dividing up interactions in bits that can be stored and linked together by relevance for faster access, akin to a memory — like grouping conversations about a certain project so an agent can recall those details when you ask for a status update and not have to search through its entire database.\\nThe work with entitlements and tools is making sure agents have secure access to, or are entitled to, information they need in order to accomplish things for you, with your permission — like who your boss is, for example — and to the computer programs they need to take action on your behalf, like Teams and PowerPoint.', 'How to use and build agents for work\\nYou can already create and publish agents in Microsoft 365 Copilot that can help you in your daily work as easily as you’d create a spreadsheet or presentation — no coding skills required.\\nYou don’t need to be a developer to build agents using Copilot Studio, either. Anyone can connect them to relevant business data such as emails, reports and customer management systems so they can perform tasks and provide insights.\\nAnd you’ll soon be able to enlist new agents in Microsoft 365 to help with common workflows and tasks. Interpreter in Teams will provide real-time speech-to-speech translation during meetings, for example, and you can opt to have it simulate your voice. The Employee Self-Service Agent will simplify human resource and IT help desk-related tasks like helping workers resolve a laptop issue or find out if they’ve maxed out certain benefits, and it can connect to company systems for further customization in Copilot Studio.\\nMicrosoft Dynamics 365 will have agents as well for a range of common business workflows across sales, supply chain, finance and customer service functions.\\nAnd every SharePoint site will soon come equipped with an agent tailored to your organization’s content that allows employees to quickly tap into these vast knowledge bases and find exactly what they need in seconds, whether it’s project details buried in a workback schedule or a summary of a recent product memo.\\nDevelopers have even more options. With the new Azure AI Agent Service, you’ll be able to choose from small or large language models to orchestrate, develop and scale agent-powered apps to streamline and automate complex workflows like order processing and customer data synchronization. It provides a software development kit with tools for developing agents, allowing you to efficiently integrate agent capabilities using Visual Studio Code and GitHub.\\nOne type of model, OpenAI’s recently announced o1 series, can bring more advanced reasoning capabilities to agents, allowing them to take on more complicated tasks by breaking them down into steps — like getting the information someone on an IT help desk would need to solve a problem, factoring in solutions they’ve tried and coming up with a plan.\\nYou can also use the power of agents in LinkedIn; the platform’s first agent can help recruiters with hiring.', 'Assessing risk for autonomous action\\nThere are extra safety considerations with agents that can act autonomously, and Microsoft is focused on making sure agents only access what you want them to, says Sarah Bird, the company’s chief product officer of Responsible AI.\\n“Agents certainly up the stakes from a responsible AI point of view,” Bird says. “So we have to have much, much lower error rates. And there’s many more nuanced ways in which something could be an error. This is the big challenge with agents.”\\nBut the same responsible AI foundational playbook for other AI applications can be used to assess and mitigate risk with agents, she says.\\nThe new Copilot Control System helps IT departments manage Copilot and agents with data access and governance, management and security controls, as well as measurement reports and tools\\xa0to track adoption and business value.\\nMany agents, like those created for Microsoft 365 and Dynamics 365, include “human in the loop” approvals, where people are required to take the final step of reviewing and sending an email the Sales Order Agent wrote, for example. And for agents developed in Copilot Studio, authors can review the records to see which actions the agent took and why.\\nThe key is to focus on testing and moderating to ensure accuracy, Bird says, and for organizations to choose the right starting point for their needs.\\n“We will of course make progress by building on the foundation we already have, so we’re starting the journey from a strong place,” Bird says.', 'Looking back — and into the future\\nTechnologists have long been excited by the idea of autonomous systems working side-by-side with people to help them, says Kamar, who has been working on AI agents since 2005 and even wrote her Ph.D. thesis on the topic in 2010. The hurdle was that “we lacked that general problem-solving power” on the back end, she says.\\nWith LLMs, “we finally have this missing component,” she says. “Now we can bring back a lot of the ideas from our decades of research.”\\nGoing forward, Kamar envisions a new ecosystem or marketplace of agents, sort of like how apps empower people to do more with their smartphones.\\nAgents already have “the basic building blocks of what it takes to complete a task,” she says. “Like observing, ‘I can see your meeting is taking longer; I should delay the next meeting.’”\\nThey’re getting more helpful as they gain autonomy through the innovations in memory and entitlements. They’re relieving pain points for employees by helping with things like expense reporting, project management and meeting facilitation. And they’re driving exponential impact for businesses by taking on duties like alerting supply chain managers to low inventory and then automatically reordering to help drive sales and keep customers satisfied.\\nAgents matter because they “open up a whole set of opportunities for working with people for getting tasks done, and that’s what we expect from AI systems,” Kamar says. “AI agents are not only a way to get more value for people but are going to be a paradigm shift in terms of how work gets done.”\\nAnd this is just the beginning. Copilot is set to evolve with new capabilities like Copilot Actions, designed to handle routine tasks that can bog down employees like summarizing emails missed during time off, compiling agenda items and generating monthly reports. More capabilities like these are coming over the next year to lift the weight of work for employees and teams.\\n“Copilot will empower every employee to do their best work in less time, and focus on more meaningful tasks,” Spataro says. “And agents created in Copilot Studio will transform every business process, helping companies streamline operations, enhance collaboration and drive innovation at scale.”\\nIllustrations by Michał Bednarski / Makeshift Studios\\nStory published on November 19, 2024', \"Tags: \\n\\n\\nAIProduct developmentTechnology \\n\\n\\nWhat's new\\n\\n\\nSurface Pro\\n\\n\\nSurface Laptop\\n\\n\\nSurface Laptop Studio 2\\n\\n\\nSurface Laptop Go 3\\n\\n\\nMicrosoft Copilot\\n\\n\\nAI in Windows\\n\\n\\nExplore Microsoft products\\n\\n\\nWindows 11 apps\\n\\n\\nMicrosoft Store\\n\\n\\nAccount profile\\n\\n\\nDownload Center\\n\\n\\nMicrosoft Store support\\n\\n\\nReturns\\n\\n\\nOrder tracking\\n\\n\\nCertified Refurbished\\n\\n\\nMicrosoft Store Promise\\n\\n\\nFlexible Payments\\n\\n\\nEducation\\n\\n\\nMicrosoft in education\\n\\n\\nDevices for education\\n\\n\\nMicrosoft Teams for Education\", 'Microsoft 365 Education\\n\\n\\nHow to buy for your school\\n\\n\\nEducator training and development\\n\\n\\nDeals for students and parents\\n\\n\\nAI for education\\n\\n\\nBusiness\\n\\n\\nMicrosoft Cloud\\n\\n\\nMicrosoft Security\\n\\n\\nDynamics 365\\n\\n\\nMicrosoft 365\\n\\n\\nMicrosoft Power Platform\\n\\n\\nMicrosoft Teams\\n\\n\\nMicrosoft 365 Copilot\\n\\n\\nSmall Business\\n\\n\\nDeveloper & IT\\n\\n\\nAzure\\n\\n\\nMicrosoft Developer\\n\\n\\nMicrosoft Learn\\n\\n\\nSupport for AI marketplace apps\\n\\n\\nMicrosoft Tech Community\\n\\n\\nAzure Marketplace\\n\\n\\nAppSource\\n\\n\\nVisual Studio\\n\\n\\nCompany', 'Company\\n\\n\\nCareers\\n\\n\\nAbout Microsoft\\n\\n\\nCompany news\\n\\n\\nPrivacy at Microsoft\\n\\n\\nInvestors\\n\\n\\nDiversity and inclusion\\n\\n\\nAccessibility\\n\\n\\nSustainability\\n\\n\\nEnglish (United States)\\n\\n\\nYour Privacy Choices Opt-Out Icon\\n\\nYour Privacy Choices\\n\\n\\nYour Privacy Choices Opt-Out Icon\\n\\nYour Privacy Choices\\n\\nConsumer Health Privacy\\n\\n\\nSitemap\\n\\n\\nContact Microsoft\\n\\n\\nPrivacy \\n\\n\\nManage cookies\\n\\n\\nTerms of use\\n\\n\\nTrademarks\\n\\n\\nSafety & eco\\n\\n\\nRecycling\\n\\n\\nAbout our ads\\n\\n© Microsoft 2025']\n",
      "\n",
      "\n",
      "\n",
      "existing_hashes: {'bc88623a029fe0a5ae90f01150258f05', 'a4daa1f86ba424252d76624d46f9e632', '1b53522487ec20d7783bb6d6bfd5d6ca', '76ee4c7e44125c11dcfc700eabdc21b7', 'e425feef54c21f0b5c6b364bdae9d7f8', 'f919c4a7f2b2347bdca0a73def0984c8', '718f02899af6f63152f0bc9019b5dd2c', 'ac7c268a6e4b6d4201cc82493dac59e9', 'a934fa6a8bc578259e966b1e172afb28', 'e8d10ea7080379f682f803b6b4636f89', '4e68cf1d06c5e32df665beaac30537f8', 'e19798546da1f6dfad5be40238f118ba', 'a71b2ea6bcf20770a549f244477922d9', '3a3484610746ddea620a6d330c01b57c'}\n",
      "New Chunks: []\n",
      "🟰 No new chunks found. Vectorstore is up to date.\n"
     ]
    }
   ],
   "source": [
    "from langchain_community.document_loaders import TextLoader, PyPDFLoader, WebBaseLoader\n",
    "from langchain_text_splitters import CharacterTextSplitter\n",
    "from langchain.vectorstores import Chroma\n",
    "from langchain.embeddings import HuggingFaceBgeEmbeddings\n",
    "import hashlib\n",
    "import os\n",
    "import bs4\n",
    "\n",
    "# Initialize embedding model\n",
    "model_name = \"BAAI/bge-base-en-v1.5\"\n",
    "model_kwargs = {'device': 'cpu'}\n",
    "encode_kwargs = {'normalize_embeddings': True}\n",
    "embeddings = HuggingFaceBgeEmbeddings(\n",
    "    model_name=model_name,\n",
    "    model_kwargs=model_kwargs,\n",
    "    encode_kwargs=encode_kwargs\n",
    ")\n",
    "\n",
    "\n",
    "# Load and split the text\n",
    "loader = WebBaseLoader(\n",
    "    web_paths=(\"https://news.microsoft.com/source/features/ai/ai-agents-what-they-are-and-how-theyll-change-the-way-we-work/\",),\n",
    ")\n",
    "documents = loader.load()\n",
    "\n",
    "splitter = CharacterTextSplitter(\n",
    "    chunk_size=500,\n",
    "    chunk_overlap=20\n",
    ")\n",
    "chunks = splitter.split_documents(documents)\n",
    "# Reload the existing vectorstore\n",
    "vectorstore = Chroma.from_documents(documents=chunks,\n",
    "    persist_directory=\"webdocdb\",\n",
    "    embedding=embeddings\n",
    ")\n",
    "\n",
    "print(\"Total chunks:\", len(chunks))\n",
    "# OPTIONAL: Avoid duplicates by hashing content\n",
    "def doc_hash(doc):\n",
    "    return hashlib.md5(doc.page_content.encode('utf-8')).hexdigest()\n",
    "\n",
    "# Build a set of hashes of already indexed documents\n",
    "existing_texts = vectorstore.get(include=[\"documents\"])[\"documents\"]\n",
    "print(\"Existing Chunk:\",existing_texts)\n",
    "existing_hashes = set(hashlib.md5(text.encode(\"utf-8\")).hexdigest() for text in existing_texts)\n",
    "\n",
    "print(\"\\n\\n\\nexisting_hashes:\",existing_hashes)\n",
    "\n",
    "# Filter only new chunks\n",
    "new_chunks = [doc for doc in chunks if doc_hash(doc) not in existing_hashes]\n",
    "print(\"New Chunks:\", new_chunks)\n",
    "# Add new chunks (if any)\n",
    "if new_chunks:\n",
    "    vectorstore.add_documents(new_chunks)\n",
    "    vectorstore.persist()\n",
    "    print(f\"✅ Added {len(new_chunks)} new chunk(s) to vectorstore.\")\n",
    "else:\n",
    "    print(\"🟰 No new chunks found. Vectorstore is up to date.\")\n"
   ]
  },
  {
   "cell_type": "code",
   "execution_count": 2,
   "metadata": {},
   "outputs": [
    {
     "data": {
      "text/plain": [
       "[Document(metadata={'title': \"AI agents — what they are, and how they'll change the way we work - Source\", 'language': 'en-US', 'source': 'https://news.microsoft.com/source/features/ai/ai-agents-what-they-are-and-how-theyll-change-the-way-we-work/', 'description': 'AI agents take the power of generative AI a step further by working alongside you or even on your behalf, and they can be built and used by anyone.'}, page_content='What are agents, anyway?\\nAn agent takes the power of generative AI a step further, because instead of just assisting you, agents can work alongside you or even on your behalf. Agents can do a range of things, from responding to questions to more complicated or multistep assignments. What sets them apart from a personal assistant is that they can be tailored to have a particular expertise.\\nFor example, you could create an agent to know everything about your company’s product catalog so it can draft detailed responses to customer questions or automatically compile product details for an upcoming presentation.\\nOther agents can do even more, acting on your behalf, like one that helps fulfill sales orders — freeing you up to focus on building new customer relationships. Having agents handle some of these routine needs can boost productivity across industries, from manufacturing and research to finance and retail, helping businesses save time and money.\\nYou can use ready-made agents in Microsoft 365 and Dynamics 365, or build custom agents to help with more specific needs in Copilot Studio.\\nImagine you’re a salesperson with big quarterly goals to meet. Copilot acts as your personal assistant, drafting emails, recapping a meeting you missed and helping you design a polished sales presentation. Meanwhile, an agent specialized in sales lead generation works autonomously in the background to find new prospects you can follow up with later in the week. Copilot partners on daily tasks, and your purpose-built agent uses its customized skills to help you meet your end-of-quarter goals.'),\n",
       " Document(metadata={'description': 'AI agents take the power of generative AI a step further by working alongside you or even on your behalf, and they can be built and used by anyone.', 'title': \"AI agents — what they are, and how they'll change the way we work - Source\", 'source': 'https://news.microsoft.com/source/features/ai/ai-agents-what-they-are-and-how-theyll-change-the-way-we-work/', 'language': 'en-US'}, page_content=\"AI agents — what they are, and how they'll change the way we work - Source\\n\\n\\n \\n\\n\\nSkip to main content\\n\\nMicrosoft\\n\\nSource\\n\\n\\nSource\\n\\n\\n                            Source\\n                        \\n\\n\\n Home \\n\\nOur Company\\n\\n\\nCompany News\\n\\n\\nOfficial Microsoft Blog\\n\\n\\nMicrosoft On The Issues\\n\\n\\nEurope\\n\\n\\nAsia\\n\\n\\nLatin America\\n\\n\\nIndia\\n\\n\\nUK\\n\\n\\nInclusion is Innovation\\n\\n\\nConexiones\\n\\n \\nAI\\n\\n\\nInnovation\\n\\n\\nDigital Transformation\\n\\n\\nDiversity & Inclusion\\n\\n\\nSustainability\\n\\n\\nWork & Life\\n\\n\\nSecurity\\n\\n\\nUnlocked\\n\\nMore\"),\n",
       " Document(metadata={'language': 'en-US', 'title': \"AI agents — what they are, and how they'll change the way we work - Source\", 'source': 'https://news.microsoft.com/source/features/ai/ai-agents-what-they-are-and-how-theyll-change-the-way-we-work/', 'description': 'AI agents take the power of generative AI a step further by working alongside you or even on your behalf, and they can be built and used by anyone.'}, page_content='Licensing\\n\\n\\nUnlocked stories\\n\\n\\nView Sitemap\\n\\n\\nSearch\\nSearch news.microsoft.com/source\\n\\n\\n No results\\n\\n\\nCancel\\n\\n\\n0\\nCart\\n0 items in shopping cart\\n\\n\\n\\r\\n\\t\\t\\t\\t\\tSource\\t\\t\\t\\t\\t\\t\\t\\t\\t\\n\\n\\n \\n\\n \\n\\n \\n\\n \\n\\n \\n\\n\\t\\t\\t\\t\\t\\t\\tAI agents — what they are, and how they’ll change the way we work\\t\\t\\t\\t\\t\\t\\n\\n                        by Susanna Ray'),\n",
       " Document(metadata={'title': \"AI agents — what they are, and how they'll change the way we work - Source\", 'description': 'AI agents take the power of generative AI a step further by working alongside you or even on your behalf, and they can be built and used by anyone.', 'language': 'en-US', 'source': 'https://news.microsoft.com/source/features/ai/ai-agents-what-they-are-and-how-theyll-change-the-way-we-work/'}, page_content='Agents are not new. Microsoft has done extensive research in the area and even created a multi-agent library last year for developers around the world, work that helped shape what agents can do today.\\xa0 They’re getting more attention now because recent advances in large language models (LLMs) help anyone — even outside the developer community — communicate with AI. That agent-LLM duo makes AI tools more tangibly useful.\\n“People expect AI to do things for them,” not to just generate language, says Ece Kamar, the managing director of Microsoft’s AI Frontiers Lab. “If you want to have a system that can really solve real world problems and help people, that system has to have a good understanding of the world we live in, and when something happens, that system has to perceive that change and take action accordingly.”\\nAgents are like layers on top of the language models that observe and collect information, provide input to the model and together generate an action plan and communicate that to the user — or even act on their own, if permitted. So both agents and models are equally important pieces of the puzzle, as far as generative AI tools go.\\nAgents will become more useful and able to have more autonomy with innovations in their three necessary elements: memory, entitlements and tools.\\nMemory helps provide continuity so that each time you ask for something, it isn’t like starting from scratch.\\n“To be autonomous you have to carry context through a bunch of actions, but the models are very disconnected and don’t have continuity the way we do, so every prompt is in a vacuum and it might pull the wrong memory out,” says Sam Schillace, Microsoft’s deputy chief technology officer. “It’s like you’re watching a stop-motion animation, one isolated frame after another, and your mind puts it into motion. The clay model doesn’t move on its own.”\\nTo build up the memory infrastructure to address this, Schillace and his team are working on a process of chunking and chaining. That’s essentially what it sounds like: They’re experimenting with dividing up interactions in bits that can be stored and linked together by relevance for faster access, akin to a memory — like grouping conversations about a certain project so an agent can recall those details when you ask for a status update and not have to search through its entire database.\\nThe work with entitlements and tools is making sure agents have secure access to, or are entitled to, information they need in order to accomplish things for you, with your permission — like who your boss is, for example — and to the computer programs they need to take action on your behalf, like Teams and PowerPoint.')]"
      ]
     },
     "execution_count": 2,
     "metadata": {},
     "output_type": "execute_result"
    }
   ],
   "source": [
    "vectorstore.similarity_search(\"what is agent\")"
   ]
  }
 ],
 "metadata": {
  "kernelspec": {
   "display_name": ".venv",
   "language": "python",
   "name": "python3"
  },
  "language_info": {
   "codemirror_mode": {
    "name": "ipython",
    "version": 3
   },
   "file_extension": ".py",
   "mimetype": "text/x-python",
   "name": "python",
   "nbconvert_exporter": "python",
   "pygments_lexer": "ipython3",
   "version": "3.10.4"
  },
  "orig_nbformat": 4
 },
 "nbformat": 4,
 "nbformat_minor": 2
}
